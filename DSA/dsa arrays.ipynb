{
 "cells": [
  {
   "cell_type": "raw",
   "id": "e62ba899-1661-491e-be79-2755f1eab526",
   "metadata": {},
   "source": [
    "Check if pair with given Sum exists in Array (Two Sum)\n",
    "Given an array A[] of n numbers and another number x, the task is to check whether or not there exist two elements in A[] whose sum is exactly x. \n",
    "\n",
    "Examples: \n",
    "\n",
    "Input: arr[] = {0, -1, 2, -3, 1}, x= -2\n",
    "Output: Yes\n",
    "Explanation: If we calculate the sum of the output,1 + (-3) = -2\n",
    "\n",
    "Input: arr[] = {1, -2, 1, 0, 5}, x = 0\n",
    "Output: No"
   ]
  },
  {
   "cell_type": "code",
   "execution_count": 4,
   "id": "831947ee-2e13-4388-9b0d-c9503bb3f175",
   "metadata": {},
   "outputs": [
    {
     "data": {
      "text/plain": [
       "0"
      ]
     },
     "execution_count": 4,
     "metadata": {},
     "output_type": "execute_result"
    }
   ],
   "source": [
    "def pair_sum(A,x):\n",
    "    for i in range(len(A)-1):\n",
    "        for j in range(i+1,len(A)):\n",
    "            if A[i]+A[j]==x:\n",
    "                return 1\n",
    "    return 0\n",
    "A=[1, -2, 1, 0, 5]\n",
    "x=0\n",
    "pair_sum(A,x)"
   ]
  },
  {
   "cell_type": "code",
   "execution_count": null,
   "id": "36ae5aad-6068-4b03-821b-64777cbe731c",
   "metadata": {},
   "outputs": [],
   "source": []
  },
  {
   "cell_type": "raw",
   "id": "6167d6a2-259f-41ef-954b-09da32dd6a35",
   "metadata": {},
   "source": [
    "Best Time to Buy and Sell Stock\n",
    "Given an array prices[] of length N, representing the prices of the stocks on different days, the task is to find the maximum profit possible by buying and selling the stocks on different days when at most one transaction is allowed.\n",
    "\n",
    "Note: Stock must be bought before being sold.\n",
    "\n",
    "Examples:\n",
    "\n",
    "Input: prices[] = {7, 1, 5, 3, 6, 4}\n",
    "Output: 5\n",
    "Explanation:\n",
    "The lowest price of the stock is on the 2nd day, i.e. price = 1. Starting from the 2nd day, the highest price of the stock is witnessed on the 5th day, i.e. price = 6. \n",
    "Therefore, maximum possible profit = 6 – 1 = 5. \n",
    "\n",
    "Input: prices[] = {7, 6, 4, 3, 1} \n",
    "Output: 0\n",
    "Explanation: Since the array is in decreasing order, no possible way exists to solve the problem."
   ]
  },
  {
   "cell_type": "code",
   "execution_count": 6,
   "id": "62d7aa71-8cc2-4c60-a5ea-d76ad824d858",
   "metadata": {},
   "outputs": [
    {
     "data": {
      "text/plain": [
       "0"
      ]
     },
     "execution_count": 6,
     "metadata": {},
     "output_type": "execute_result"
    }
   ],
   "source": [
    "def buy_and_sell(prices):\n",
    "    buy=prices[0]\n",
    "    max_profit=0\n",
    "    for i in range(1,len(prices)):\n",
    "        if buy>prices[i]:\n",
    "            buy=prices[i]\n",
    "        elif prices[i]-buy>max_profit:\n",
    "            max_profit=prices[i]-buy\n",
    "    return max_profit\n",
    "\n",
    "prices=[7, 6, 4, 3, 1]\n",
    "buy_and_sell(prices)"
   ]
  },
  {
   "cell_type": "code",
   "execution_count": null,
   "id": "30f712fd-99ae-4c1b-b25a-0e53cf6e9edd",
   "metadata": {},
   "outputs": [],
   "source": []
  },
  {
   "cell_type": "raw",
   "id": "f3668f3e-8b9f-4f10-b124-5d539a14766a",
   "metadata": {},
   "source": [
    "Find duplicates in O(n) time and O(1) extra space | Set 1\n",
    "Given an array of n elements that contains elements from 0 to n-1, with any of these numbers appearing any number of times. Find these repeating numbers in O(n) and use only constant memory space.\n",
    "\n",
    "Note: The repeating element should be printed only once.\n",
    "\n",
    "Example: \n",
    "\n",
    "Input: n=7 , array[]={1, 2, 3, 6, 3, 6, 1}\n",
    "Output: 1, 3, 6\n",
    "Explanation: The numbers 1 , 3 and 6 appears more than once in the array."
   ]
  },
  {
   "cell_type": "code",
   "execution_count": 16,
   "id": "3a4c7a61-12d2-47cd-b099-b29db0d3a8c0",
   "metadata": {},
   "outputs": [
    {
     "name": "stdout",
     "output_type": "stream",
     "text": [
      "Output: 3 6 1 "
     ]
    }
   ],
   "source": [
    "def find_duplicates(arr):\n",
    "    for i in range(len(arr)):\n",
    "        if arr[abs(arr[i])]>=0:\n",
    "            arr[abs(arr[i])]=-arr[abs(arr[i])]\n",
    "        else:\n",
    "            print(abs(arr[i]),end=\" \")\n",
    "\n",
    "# Test the function\n",
    "arr = [1, 2, 3, 6, 3, 6, 1]\n",
    "print(\"Output:\", end=\" \")\n",
    "find_duplicates(arr)\n"
   ]
  },
  {
   "cell_type": "code",
   "execution_count": null,
   "id": "69f0668f-0f8c-4d75-a510-7f6bf5810914",
   "metadata": {},
   "outputs": [],
   "source": []
  },
  {
   "cell_type": "raw",
   "id": "d8a97e4a-9d87-4dd9-9844-e41f31c48bcf",
   "metadata": {},
   "source": [
    "Product of Array except itself\n",
    "Given an array arr[] of n integers, construct a Product Array prod[] (of the same size) such that prod[i] is equal to the product of all the elements of arr[] except arr[i]. \n",
    "\n",
    "Note: Solve it without the division operator in O(n) time.\n",
    "\n",
    "Example : \n",
    "\n",
    "Input: arr[]  = {10, 3, 5, 6, 2}\n",
    "Output: prod[]  = {180, 600, 360, 300, 900}\n",
    "3 * 5 * 6 * 2 product of other array \n",
    "elements except 10 is 180\n",
    "10 * 5 * 6 * 2 product of other array \n",
    "elements except 3 is 600\n",
    "10 * 3 * 6 * 2 product of other array \n",
    "elements except 5 is 360\n",
    "10 * 3 * 5 * 2 product of other array \n",
    "elements except 6 is 300\n",
    "10 * 3 * 6 * 5 product of other array \n",
    "elements except 2 is 900\n",
    "\n",
    "\n",
    "Input: arr[]  = {1, 2, 3, 4, 5}\n",
    "Output: prod[]  = {120, 60, 40, 30, 24 }\n",
    "2 * 3 * 4 * 5  product of other array \n",
    "elements except 1 is 120\n",
    "1 * 3 * 4 * 5  product of other array \n",
    "elements except 2 is 60\n",
    "1 * 2 * 4 * 5  product of other array \n",
    "elements except 3 is 40\n",
    "1 * 2 * 3 * 5  product of other array \n",
    "elements except 4 is 30\n",
    "1 * 2 * 3 * 4  product of other array \n",
    "elements except 5 is 24"
   ]
  },
  {
   "cell_type": "code",
   "execution_count": 19,
   "id": "0f6f656c-aab2-4062-b6ff-62c82e3b1664",
   "metadata": {},
   "outputs": [
    {
     "name": "stdout",
     "output_type": "stream",
     "text": [
      "Output for arr1: [180, 600, 360, 300, 900]\n",
      "Output for arr2: [120, 60, 40, 30, 24]\n"
     ]
    }
   ],
   "source": [
    "def product_except_self(arr):\n",
    "    n = len(arr)\n",
    "    result = [1] * n\n",
    "    left_product = 1\n",
    "    for i in range(n):\n",
    "        result[i] *= left_product\n",
    "        left_product *= arr[i]    \n",
    "    right_product = 1\n",
    "    for i in range(n - 1, -1, -1):\n",
    "        result[i] *= right_product\n",
    "        right_product *= arr[i]\n",
    "    return result\n",
    "\n",
    "arr1 = [10, 3, 5, 6, 2]\n",
    "print(\"Output for arr1:\", product_except_self(arr1))\n",
    "\n",
    "arr2 = [1, 2, 3, 4, 5]\n",
    "print(\"Output for arr2:\", product_except_self(arr2))\n"
   ]
  },
  {
   "cell_type": "code",
   "execution_count": 20,
   "id": "adf18a1f-5f3e-41ab-819c-466e8089e484",
   "metadata": {},
   "outputs": [
    {
     "name": "stdout",
     "output_type": "stream",
     "text": [
      "Output for arr1: [180, 600, 360, 300, 900]\n",
      "Output for arr2: [120, 60, 40, 30, 24]\n"
     ]
    }
   ],
   "source": [
    "def product_except_self(arr):\n",
    "    n = len(arr)\n",
    "    left_products = [1] * n\n",
    "    right_products = [1] * n\n",
    "    for i in range(1, n):\n",
    "        left_products[i] = left_products[i - 1] * arr[i - 1]\n",
    "    for i in range(n - 2, -1, -1):\n",
    "        right_products[i] = right_products[i + 1] * arr[i + 1]\n",
    "    \n",
    "    result = [left_products[i] * right_products[i] for i in range(n)]\n",
    "    \n",
    "    return result\n",
    "\n",
    "# Test the function\n",
    "arr1 = [10, 3, 5, 6, 2]\n",
    "print(\"Output for arr1:\", product_except_self(arr1))\n",
    "\n",
    "arr2 = [1, 2, 3, 4, 5]\n",
    "print(\"Output for arr2:\", product_except_self(arr2))\n"
   ]
  },
  {
   "cell_type": "code",
   "execution_count": null,
   "id": "2851a13a-749d-4dde-8916-893405396f56",
   "metadata": {},
   "outputs": [],
   "source": []
  },
  {
   "cell_type": "raw",
   "id": "6ff26fc3-fd19-40e1-a806-be8be2a70373",
   "metadata": {},
   "source": [
    "Largest Sum Contiguous Subarray (Kadane’s Algorithm)\n",
    "Given an array arr[] of size N. The task is to find the sum of the contiguous subarray within a arr[] with the largest sum. "
   ]
  },
  {
   "cell_type": "code",
   "execution_count": 28,
   "id": "6b936c9e-eea8-40a7-8c2b-af0679fd4afe",
   "metadata": {},
   "outputs": [
    {
     "name": "stdout",
     "output_type": "stream",
     "text": [
      "Maximum contiguous sum is 7\n"
     ]
    }
   ],
   "source": [
    "def maxSubArraySum(arr):\n",
    "    max_sum=float('-inf')\n",
    "    curr_sum=0\n",
    "    for i in arr:\n",
    "        curr_sum+=i\n",
    "        if curr_sum<0:\n",
    "            curr_sum=0\n",
    "        if curr_sum>max_sum:\n",
    "            max_sum=curr_sum\n",
    "    return max_sum\n",
    "arr = [-2, -3, 4, -1, -2, 1, 5, -3]\n",
    " \n",
    "print(\"Maximum contiguous sum is\", maxSubArraySum(arr))"
   ]
  },
  {
   "cell_type": "code",
   "execution_count": null,
   "id": "4af8b4a7-7ba9-419e-b2a4-664309bc03d8",
   "metadata": {},
   "outputs": [],
   "source": []
  },
  {
   "cell_type": "raw",
   "id": "2cd9858b-6add-4bed-8321-433c01604fd6",
   "metadata": {},
   "source": [
    "Maximum Product Subarray\n",
    "Given an array that contains both positive and negative integers, the task is to find the product of the maximum product subarray. \n",
    "\n",
    "Examples:\n",
    "\n",
    "Input: arr[] = {6, -3, -10, 0, 2}\n",
    "Output:  180\n",
    "Explanation: The subarray is {6, -3, -10}\n",
    "\n",
    "Input: arr[] = {-1, -3, -10, 0, 60}\n",
    "Output:   60\n",
    "Explanation: The subarray is {60}"
   ]
  },
  {
   "cell_type": "code",
   "execution_count": 34,
   "id": "2cbba69b-035a-4131-aedb-695b6f8d8d40",
   "metadata": {},
   "outputs": [
    {
     "data": {
      "text/plain": [
       "60"
      ]
     },
     "execution_count": 34,
     "metadata": {},
     "output_type": "execute_result"
    }
   ],
   "source": [
    "def maxProd(arr):\n",
    "    if not arr:\n",
    "        return 0\n",
    "    min_prod=max_prod=res=arr[0]\n",
    "    for i in range(1,len(arr)):\n",
    "        if arr[i]<0:\n",
    "            max_prod,min_prod=min_prod,max_prod\n",
    "        max_prod=max(arr[i],max_prod*arr[i])\n",
    "        min_prod=min(arr[i],min_prod*arr[i])\n",
    "        res=max(res,max_prod)\n",
    "    return res\n",
    "    \n",
    "arr=[-1, -3, -10, 0, 60]\n",
    "maxProd(arr)\n"
   ]
  },
  {
   "cell_type": "code",
   "execution_count": null,
   "id": "6159939a-d346-4730-ba3f-5ce81f964094",
   "metadata": {},
   "outputs": [],
   "source": []
  },
  {
   "cell_type": "raw",
   "id": "5b83a85c-477b-4cb3-8571-3c33a9765bc9",
   "metadata": {},
   "source": [
    "Find the Minimum element in a Sorted and Rotated Array\n",
    "Given a sorted array arr[] (may be distinct or may contain duplicates) of size N that is rotated at some unknown point, the task is to find the minimum element in it. \n",
    "\n",
    "Examples: \n",
    "\n",
    "Input: arr[] = {5, 6, 1, 2, 3, 4}\n",
    "Output: 1\n",
    "Explanation: 1 is the minimum element present in the array.\n",
    "\n",
    "Input: arr[] = {1, 2, 3, 4}\n",
    "Output: 1"
   ]
  },
  {
   "cell_type": "code",
   "execution_count": 2,
   "id": "58adc60c-f807-4a8d-91cb-60c3bb34cf9d",
   "metadata": {},
   "outputs": [
    {
     "name": "stdout",
     "output_type": "stream",
     "text": [
      "1\n"
     ]
    }
   ],
   "source": [
    "def min_ele(arr):\n",
    "    mn=arr[0]\n",
    "    for i in range(1,len(arr)):\n",
    "        if arr[i]<mn:\n",
    "            mn=arr[i]\n",
    "    return mn\n",
    "arr=[5, 6, 1, 2, 3, 4]\n",
    "print(min_ele(arr))"
   ]
  },
  {
   "cell_type": "code",
   "execution_count": null,
   "id": "5188916b-afee-4d98-bad1-9ec9411eeb1d",
   "metadata": {},
   "outputs": [],
   "source": []
  },
  {
   "cell_type": "raw",
   "id": "64e13c38-6e87-4e08-9b4b-bc79db2ae70a",
   "metadata": {},
   "source": [
    "Search an element in a sorted and rotated Array\n",
    "Given a sorted and rotated array arr[] of size N and a key, the task is to find the key in the array.\n",
    "\n",
    "Note: Find the element in O(logN) time and assume that all the elements are distinct.\n",
    "\n",
    "Example:  \n",
    "\n",
    "Input  : arr[] = {5, 6, 7, 8, 9, 10, 1, 2, 3}, key = 3\n",
    "Output : Found at index 8"
   ]
  },
  {
   "cell_type": "code",
   "execution_count": 5,
   "id": "ea828eee-f9f3-48b6-91ad-8ed9ea2c3a80",
   "metadata": {},
   "outputs": [
    {
     "name": "stdout",
     "output_type": "stream",
     "text": [
      "4\n"
     ]
    }
   ],
   "source": [
    "def search(arr,key):\n",
    "    for i in range(len(arr)):\n",
    "        if arr[i]==key:\n",
    "            print(i)\n",
    "            break\n",
    "arr=[5, 6, 7, 8, 9, 10, 1, 2, 3]\n",
    "key=9\n",
    "search(arr,key)\n",
    "           "
   ]
  },
  {
   "cell_type": "code",
   "execution_count": 10,
   "id": "76c2d26b-1c30-4735-856c-2f6adabd023e",
   "metadata": {},
   "outputs": [
    {
     "name": "stdout",
     "output_type": "stream",
     "text": [
      "Index of the element is: 8\n"
     ]
    }
   ],
   "source": [
    "def pivotedBinarySearch(arr, key):\n",
    "    low, high = 0, len(arr) - 1\n",
    "    while low <= high:\n",
    "        mid = (low + high) // 2\n",
    "        if arr[mid] == key:\n",
    "            return mid\n",
    "        if arr[low] <= arr[mid]:\n",
    "            if arr[low] <= key <= arr[mid]:\n",
    "                high = mid - 1\n",
    "            else:\n",
    "                low = mid + 1\n",
    "        else:\n",
    "            if arr[mid] <= key <= arr[high]:\n",
    "                low = mid + 1\n",
    "            else:\n",
    "                high = mid - 1\n",
    "                \n",
    "    return -1\n",
    "\n",
    "if __name__ == '__main__':\n",
    "    arr1 = [5, 6, 7, 8, 9, 10, 1, 2, 3]\n",
    "    key = 3\n",
    "    print(\"Index of the element is:\", pivotedBinarySearch(arr1, key))"
   ]
  },
  {
   "cell_type": "code",
   "execution_count": null,
   "id": "e8e0c90f-ae28-4755-b762-f14bec5a210d",
   "metadata": {},
   "outputs": [],
   "source": []
  },
  {
   "cell_type": "raw",
   "id": "af9257a9-6b61-4b8c-b9b5-f4f04b196d5f",
   "metadata": {},
   "source": [
    "Find all triplets with zero sum\n",
    "Given an array of distinct elements. The task is to find triplets in the array whose sum is zero.\n",
    "\n",
    "Examples : \n",
    "\n",
    "Input: arr[] = {0, -1, 2, -3, 1}\n",
    "Output: (0 -1 1), (2 -3 1)\n",
    "Explanation: The triplets with zero sum are 0 + -1 + 1 = 0 and 2 + -3 + 1 = 0  \n",
    "\n",
    "Input: arr[] = {1, -2, 1, 0, 5}\n",
    "Output: 1 -2  1\n",
    "Explanation: The triplets with zero sum is 1 + -2 + 1 = 0  "
   ]
  },
  {
   "cell_type": "code",
   "execution_count": 2,
   "id": "2e40ce59-fa6a-4513-ba8f-9dfe675592c7",
   "metadata": {},
   "outputs": [
    {
     "name": "stdout",
     "output_type": "stream",
     "text": [
      "[[-1, -1, 2], [-1, 0, 1]]\n"
     ]
    }
   ],
   "source": [
    "#Triplets that sum to zero (medium)\n",
    "def triplets(nums):\n",
    "    nums.sort()\n",
    "    trip=[]\n",
    "    for i in range(len(nums)-2):\n",
    "        if i>0 and nums[i]==nums[i-1]:\n",
    "            continue\n",
    "        l,r=i+1,len(nums)-1\n",
    "        while l<r:\n",
    "            curr_sum=nums[i]+nums[l]+nums[r]\n",
    "            if curr_sum==0:\n",
    "                trip.append([nums[i],nums[l],nums[r]])\n",
    "                l+=1\n",
    "                r-=1\n",
    "                while l<r and nums[l]==nums[l-1]:\n",
    "                    l+=1\n",
    "                while l<r and nums[r]==nums[r+1]:\n",
    "                    r-=1\n",
    "            elif curr_sum>0:\n",
    "                r-=1\n",
    "            else:\n",
    "                l+=1\n",
    "    return trip\n",
    "    \n",
    "            \n",
    "            \n",
    "\n",
    "            \n",
    "nums = [-1, 0, 1, 2, -1, -4]\n",
    "print(triplets(nums))"
   ]
  },
  {
   "cell_type": "code",
   "execution_count": null,
   "id": "476b85d0-abd9-4dfa-aded-1c5251c68c12",
   "metadata": {},
   "outputs": [],
   "source": []
  },
  {
   "cell_type": "raw",
   "id": "e194a8c1-95db-4011-bea2-41600abc8dac",
   "metadata": {},
   "source": [
    "Container with Most Water\n",
    "Given n non-negative integers a_1, a_2, ..., a_n                  where each represents a point at coordinate (i, a_i)                  . ‘ n ‘ vertical lines are drawn such that the two endpoints of line i is at (i, a_i)                  and (i, 0)                  . \n",
    "Find two lines, which together with x-axis forms a container, such that the container contains the most water.\n",
    "The program should return an integer which corresponds to the maximum area of water that can be contained (maximum area instead of maximum volume sounds weird but this is the 2D plane we are working with for simplicity).\n",
    "\n",
    "Note: You may not slant the container. \n",
    "\n",
    "Examples :  \n",
    "\n",
    "Input: array = [1, 5, 4, 3]\n",
    "Output: 6\n",
    "Explanation : \n",
    "5 and 3 are distance 2 apart. \n",
    "So the size of the base = 2. \n",
    "Height of container = min(5, 3) = 3. \n",
    "So total area = 3 * 2 = 6\n",
    "\n",
    "Input: array = [3, 1, 2, 4, 5]\n",
    "Output: 12\n",
    "Explanation : \n",
    "5 and 3 are distance 4 apart. \n",
    "So the size of the base = 4. \n",
    "Height of container = min(5, 3) = 3. \n",
    "So total area = 4 * 3 = 12"
   ]
  },
  {
   "cell_type": "code",
   "execution_count": 8,
   "id": "1c3d752b-9cf6-4fcb-93a0-1edb9e2f31c6",
   "metadata": {},
   "outputs": [
    {
     "name": "stdout",
     "output_type": "stream",
     "text": [
      "6\n"
     ]
    }
   ],
   "source": [
    "def cont_with_water(arr):\n",
    "    area=0\n",
    "    for i in range(len(arr)):\n",
    "        for j in range(i+1,len(arr)):\n",
    "            area=max(area, min(arr[j],arr[i])*(j-i))\n",
    "    return area\n",
    "arr=[1, 5, 4, 3]\n",
    "print(cont_with_water(arr))"
   ]
  },
  {
   "cell_type": "code",
   "execution_count": 9,
   "id": "c4a7b8c5-a9fe-4179-9fe4-f91a518c7491",
   "metadata": {},
   "outputs": [
    {
     "name": "stdout",
     "output_type": "stream",
     "text": [
      "6\n"
     ]
    }
   ],
   "source": [
    "def conta_with_water(arr):\n",
    "    max_area=0\n",
    "    l=0\n",
    "    r=len(arr)-1\n",
    "    while l<r:\n",
    "        max_area= max(max_area, min(arr[l],arr[r])*(r-l))\n",
    "        if arr[l]<arr[r]:\n",
    "            l+=1\n",
    "        else:\n",
    "            r-=1\n",
    "    return max_area\n",
    "    \n",
    "arr=[1, 5, 4, 3]\n",
    "print(cont_with_water(arr))    "
   ]
  },
  {
   "cell_type": "code",
   "execution_count": null,
   "id": "7834a04d-fe6c-497e-a9f0-2a7edef1c63f",
   "metadata": {},
   "outputs": [],
   "source": []
  },
  {
   "cell_type": "raw",
   "id": "91766f18-e6a7-4f86-a582-23a235ec811e",
   "metadata": {},
   "source": [
    "Find the Factorial of a large number\n",
    "\n",
    "What is Factorial of a number?\n",
    "Factorial of a non-negative integer, is the multiplication of all integers smaller than or equal to n. \n",
    "\n"
   ]
  },
  {
   "cell_type": "code",
   "execution_count": 12,
   "id": "8c47ccf1-7abf-4bb4-92d8-b9446f67cff5",
   "metadata": {},
   "outputs": [
    {
     "name": "stdout",
     "output_type": "stream",
     "text": [
      "93326215443944152681699238856266700490715968264381621468592963895217599993229915608941463976156518286253697920827223758251185210916864000000000000000000000000\n"
     ]
    }
   ],
   "source": [
    "def fact(n):\n",
    "    fact=1\n",
    "    while n>0:\n",
    "        fact=fact*n\n",
    "        n-=1\n",
    "    return fact\n",
    "print(fact(100))"
   ]
  },
  {
   "cell_type": "code",
   "execution_count": 17,
   "id": "709bace2-4a66-4214-9f99-64c640f37d3c",
   "metadata": {},
   "outputs": [
    {
     "name": "stdout",
     "output_type": "stream",
     "text": [
      "93326215443944152681699238856266700490715968264381621468592963895217599993229915608941463976156518286253697920827223758251185210916864000000000000000000000000\n"
     ]
    }
   ],
   "source": [
    "def fact(n):\n",
    "    if n<=2:\n",
    "        return n\n",
    "    else:\n",
    "        return n*fact(n-1)\n",
    "print(fact(100))"
   ]
  },
  {
   "cell_type": "code",
   "execution_count": null,
   "id": "ec583c8e-c51d-40b3-8484-d1d72c67b43c",
   "metadata": {},
   "outputs": [],
   "source": []
  },
  {
   "cell_type": "raw",
   "id": "190a7c39-0c6b-4156-9716-f62bd06bc042",
   "metadata": {},
   "source": [
    "Trapping Rain Water\n",
    "Given an array of N non-negative integers arr[] representing an elevation map where the width of each bar is 1, compute how much water it is able to trap after raining.\n",
    "\n",
    "Examples:  \n",
    "\n",
    "Input: arr[] = {2, 0, 2}\n",
    "Output: 2\n",
    "Explanation: The structure is like below.\n",
    "We can trap 2 units of water in the middle gap."
   ]
  },
  {
   "cell_type": "code",
   "execution_count": 19,
   "id": "483b8e4a-da0f-47fb-9058-77daeecd7744",
   "metadata": {},
   "outputs": [
    {
     "name": "stdout",
     "output_type": "stream",
     "text": [
      "2\n"
     ]
    }
   ],
   "source": [
    "def trapping_water(arr):\n",
    "    res=0\n",
    "    for i in range(1,len(arr)):\n",
    "        left=arr[i]\n",
    "        for j in range(i):\n",
    "            left=max(left,arr[j])\n",
    "        right=arr[i]\n",
    "        for j in range(i+1,len(arr)):\n",
    "            right=max(right,arr[j])\n",
    "        res=res+min(left,right)-arr[i]\n",
    "    return res\n",
    "arr=[2,0,2]\n",
    "print(trapping_water(arr))  \n",
    "    "
   ]
  },
  {
   "cell_type": "code",
   "execution_count": 20,
   "id": "739e1fdd-a377-4133-abfd-21091801933b",
   "metadata": {},
   "outputs": [
    {
     "name": "stdout",
     "output_type": "stream",
     "text": [
      "2\n"
     ]
    }
   ],
   "source": [
    "def trapping_wat(arr):\n",
    "    if len(arr)<=2:\n",
    "        return 0\n",
    "    l=0\n",
    "    r=len(arr)-1\n",
    "    left_max=0\n",
    "    right_max=0\n",
    "    water=0\n",
    "    while l<r:\n",
    "        if arr[l]<arr[r]:\n",
    "            if arr[l]>=left_max:\n",
    "                left_max=arr[l]\n",
    "            else:\n",
    "                water+=left_max-arr[l]\n",
    "            l+=1\n",
    "        else:\n",
    "            if arr[r]>=right_max:\n",
    "                right_max=arr[r]\n",
    "            else:\n",
    "                water+=right_max-arr[r]\n",
    "            r-=1\n",
    "    return water\n",
    "arr=[2,0,2]\n",
    "print(trapping_wat(arr))  \n",
    "   "
   ]
  },
  {
   "cell_type": "raw",
   "id": "40b1f467-51aa-44c9-8836-9c93d5c723ec",
   "metadata": {},
   "source": [
    "climbing stairss"
   ]
  },
  {
   "cell_type": "code",
   "execution_count": 2,
   "id": "33ad9c72-baa0-4a43-abb1-e95a083ddd2c",
   "metadata": {},
   "outputs": [
    {
     "data": {
      "text/plain": [
       "8"
      ]
     },
     "execution_count": 2,
     "metadata": {},
     "output_type": "execute_result"
    }
   ],
   "source": [
    "def climbStairs(n):\n",
    "    if n==0 or n==1:\n",
    "        return 1\n",
    "    prev,curr=1,1\n",
    "    for i in range(2,n+1):\n",
    "        temp=curr\n",
    "        curr=prev+curr\n",
    "        prev=temp\n",
    "    return curr\n",
    "climbStairs(5)"
   ]
  },
  {
   "cell_type": "code",
   "execution_count": null,
   "id": "f87e531b-a236-4448-bd6c-6f219d195ff8",
   "metadata": {},
   "outputs": [],
   "source": []
  }
 ],
 "metadata": {
  "kernelspec": {
   "display_name": "Python 3 (ipykernel)",
   "language": "python",
   "name": "python3"
  },
  "language_info": {
   "codemirror_mode": {
    "name": "ipython",
    "version": 3
   },
   "file_extension": ".py",
   "mimetype": "text/x-python",
   "name": "python",
   "nbconvert_exporter": "python",
   "pygments_lexer": "ipython3",
   "version": "3.12.1"
  }
 },
 "nbformat": 4,
 "nbformat_minor": 5
}
