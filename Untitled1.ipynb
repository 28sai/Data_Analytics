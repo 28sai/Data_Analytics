{
 "cells": [
  {
   "cell_type": "code",
   "execution_count": 1,
   "id": "2ddec3f9-bcec-42a6-a2fd-6b34b7361135",
   "metadata": {},
   "outputs": [],
   "source": [
    "import pandas as pd"
   ]
  },
  {
   "cell_type": "code",
   "execution_count": 3,
   "id": "206f3558-f1d2-4d10-b1b7-0dccd4a13a67",
   "metadata": {},
   "outputs": [],
   "source": [
    "df1=pd.read_csv(\"employee_attendance_data2.csv\")"
   ]
  },
  {
   "cell_type": "code",
   "execution_count": 4,
   "id": "12a23813-2c74-4bf2-b149-ec6cf1cb7518",
   "metadata": {},
   "outputs": [
    {
     "data": {
      "text/html": [
       "<div>\n",
       "<style scoped>\n",
       "    .dataframe tbody tr th:only-of-type {\n",
       "        vertical-align: middle;\n",
       "    }\n",
       "\n",
       "    .dataframe tbody tr th {\n",
       "        vertical-align: top;\n",
       "    }\n",
       "\n",
       "    .dataframe thead th {\n",
       "        text-align: right;\n",
       "    }\n",
       "</style>\n",
       "<table border=\"1\" class=\"dataframe\">\n",
       "  <thead>\n",
       "    <tr style=\"text-align: right;\">\n",
       "      <th></th>\n",
       "      <th>emp_id</th>\n",
       "      <th>date_of_joining</th>\n",
       "      <th>dept</th>\n",
       "    </tr>\n",
       "  </thead>\n",
       "  <tbody>\n",
       "    <tr>\n",
       "      <th>0</th>\n",
       "      <td>1</td>\n",
       "      <td>2024-01-15 00:00:00</td>\n",
       "      <td>mech</td>\n",
       "    </tr>\n",
       "    <tr>\n",
       "      <th>1</th>\n",
       "      <td>2</td>\n",
       "      <td>2024-01-16 00:00:00</td>\n",
       "      <td>mech</td>\n",
       "    </tr>\n",
       "    <tr>\n",
       "      <th>2</th>\n",
       "      <td>3</td>\n",
       "      <td>2024-01-24 00:00:00</td>\n",
       "      <td>cse</td>\n",
       "    </tr>\n",
       "    <tr>\n",
       "      <th>3</th>\n",
       "      <td>4</td>\n",
       "      <td>2024-01-26 00:00:00</td>\n",
       "      <td>cse</td>\n",
       "    </tr>\n",
       "    <tr>\n",
       "      <th>4</th>\n",
       "      <td>5</td>\n",
       "      <td>2024-01-02 00:00:00</td>\n",
       "      <td>it</td>\n",
       "    </tr>\n",
       "    <tr>\n",
       "      <th>5</th>\n",
       "      <td>6</td>\n",
       "      <td>2024-01-03 00:00:00</td>\n",
       "      <td>it</td>\n",
       "    </tr>\n",
       "  </tbody>\n",
       "</table>\n",
       "</div>"
      ],
      "text/plain": [
       "   emp_id      date_of_joining  dept\n",
       "0       1  2024-01-15 00:00:00  mech\n",
       "1       2  2024-01-16 00:00:00  mech\n",
       "2       3  2024-01-24 00:00:00   cse\n",
       "3       4  2024-01-26 00:00:00   cse\n",
       "4       5  2024-01-02 00:00:00    it\n",
       "5       6  2024-01-03 00:00:00    it"
      ]
     },
     "execution_count": 4,
     "metadata": {},
     "output_type": "execute_result"
    }
   ],
   "source": [
    "df1"
   ]
  },
  {
   "cell_type": "code",
   "execution_count": 5,
   "id": "2261166f-4095-4033-adb5-635174a852ef",
   "metadata": {},
   "outputs": [],
   "source": [
    "df2=pd.read_csv(\"employee_attendance_data1.csv\")"
   ]
  },
  {
   "cell_type": "code",
   "execution_count": 6,
   "id": "899ac189-e85c-40ad-88cd-539128a66f39",
   "metadata": {},
   "outputs": [
    {
     "data": {
      "text/html": [
       "<div>\n",
       "<style scoped>\n",
       "    .dataframe tbody tr th:only-of-type {\n",
       "        vertical-align: middle;\n",
       "    }\n",
       "\n",
       "    .dataframe tbody tr th {\n",
       "        vertical-align: top;\n",
       "    }\n",
       "\n",
       "    .dataframe thead th {\n",
       "        text-align: right;\n",
       "    }\n",
       "</style>\n",
       "<table border=\"1\" class=\"dataframe\">\n",
       "  <thead>\n",
       "    <tr style=\"text-align: right;\">\n",
       "      <th></th>\n",
       "      <th>emp_id</th>\n",
       "      <th>month</th>\n",
       "      <th>attendies</th>\n",
       "    </tr>\n",
       "  </thead>\n",
       "  <tbody>\n",
       "    <tr>\n",
       "      <th>0</th>\n",
       "      <td>1</td>\n",
       "      <td>Jan-24</td>\n",
       "      <td>1</td>\n",
       "    </tr>\n",
       "    <tr>\n",
       "      <th>1</th>\n",
       "      <td>2</td>\n",
       "      <td>Jan-24</td>\n",
       "      <td>1</td>\n",
       "    </tr>\n",
       "    <tr>\n",
       "      <th>2</th>\n",
       "      <td>3</td>\n",
       "      <td>Jan-24</td>\n",
       "      <td>1</td>\n",
       "    </tr>\n",
       "    <tr>\n",
       "      <th>3</th>\n",
       "      <td>4</td>\n",
       "      <td>Jan-24</td>\n",
       "      <td>1</td>\n",
       "    </tr>\n",
       "    <tr>\n",
       "      <th>4</th>\n",
       "      <td>5</td>\n",
       "      <td>Jan-24</td>\n",
       "      <td>0</td>\n",
       "    </tr>\n",
       "    <tr>\n",
       "      <th>...</th>\n",
       "      <td>...</td>\n",
       "      <td>...</td>\n",
       "      <td>...</td>\n",
       "    </tr>\n",
       "    <tr>\n",
       "      <th>61</th>\n",
       "      <td>2</td>\n",
       "      <td>Nov-24</td>\n",
       "      <td>1</td>\n",
       "    </tr>\n",
       "    <tr>\n",
       "      <th>62</th>\n",
       "      <td>3</td>\n",
       "      <td>Nov-24</td>\n",
       "      <td>0</td>\n",
       "    </tr>\n",
       "    <tr>\n",
       "      <th>63</th>\n",
       "      <td>4</td>\n",
       "      <td>Nov-24</td>\n",
       "      <td>1</td>\n",
       "    </tr>\n",
       "    <tr>\n",
       "      <th>64</th>\n",
       "      <td>5</td>\n",
       "      <td>Nov-24</td>\n",
       "      <td>0</td>\n",
       "    </tr>\n",
       "    <tr>\n",
       "      <th>65</th>\n",
       "      <td>6</td>\n",
       "      <td>Nov-24</td>\n",
       "      <td>1</td>\n",
       "    </tr>\n",
       "  </tbody>\n",
       "</table>\n",
       "<p>66 rows × 3 columns</p>\n",
       "</div>"
      ],
      "text/plain": [
       "    emp_id   month  attendies\n",
       "0        1  Jan-24          1\n",
       "1        2  Jan-24          1\n",
       "2        3  Jan-24          1\n",
       "3        4  Jan-24          1\n",
       "4        5  Jan-24          0\n",
       "..     ...     ...        ...\n",
       "61       2  Nov-24          1\n",
       "62       3  Nov-24          0\n",
       "63       4  Nov-24          1\n",
       "64       5  Nov-24          0\n",
       "65       6  Nov-24          1\n",
       "\n",
       "[66 rows x 3 columns]"
      ]
     },
     "execution_count": 6,
     "metadata": {},
     "output_type": "execute_result"
    }
   ],
   "source": [
    "df2"
   ]
  },
  {
   "cell_type": "code",
   "execution_count": 7,
   "id": "127ec97a-20ff-4191-b2cf-f3fb2b7bde57",
   "metadata": {},
   "outputs": [],
   "source": [
    "res={\"Month-Gap\":[],\n",
    "    \"MECH\":[],\n",
    "    \"CSE\":[],\n",
    "     \"IT\":[]}\n",
    "df3=pd.DataFrame(res)"
   ]
  },
  {
   "cell_type": "code",
   "execution_count": 8,
   "id": "d08c08b3-26c5-4b6b-a81b-1127946a41c7",
   "metadata": {},
   "outputs": [
    {
     "data": {
      "text/html": [
       "<div>\n",
       "<style scoped>\n",
       "    .dataframe tbody tr th:only-of-type {\n",
       "        vertical-align: middle;\n",
       "    }\n",
       "\n",
       "    .dataframe tbody tr th {\n",
       "        vertical-align: top;\n",
       "    }\n",
       "\n",
       "    .dataframe thead th {\n",
       "        text-align: right;\n",
       "    }\n",
       "</style>\n",
       "<table border=\"1\" class=\"dataframe\">\n",
       "  <thead>\n",
       "    <tr style=\"text-align: right;\">\n",
       "      <th></th>\n",
       "      <th>Month-Gap</th>\n",
       "      <th>MECH</th>\n",
       "      <th>CSE</th>\n",
       "      <th>IT</th>\n",
       "    </tr>\n",
       "  </thead>\n",
       "  <tbody>\n",
       "  </tbody>\n",
       "</table>\n",
       "</div>"
      ],
      "text/plain": [
       "Empty DataFrame\n",
       "Columns: [Month-Gap, MECH, CSE, IT]\n",
       "Index: []"
      ]
     },
     "execution_count": 8,
     "metadata": {},
     "output_type": "execute_result"
    }
   ],
   "source": [
    "df3"
   ]
  },
  {
   "cell_type": "code",
   "execution_count": 11,
   "id": "b9857d7e-9211-4ce0-abf3-e20e49f97864",
   "metadata": {},
   "outputs": [
    {
     "name": "stdout",
     "output_type": "stream",
     "text": [
      "[1, 2]\n",
      "[3, 4]\n",
      "[5, 6]\n"
     ]
    }
   ],
   "source": [
    "Mech_ids=[]\n",
    "Cse_ids=[]\n",
    "IT_ids=[]\n",
    "for row in df1.itertuples():\n",
    "    emp_id = row.emp_id\n",
    "    dept = row.dept\n",
    "    if dept == \"mech\":\n",
    "        Mech_ids.append(int(emp_id))\n",
    "    elif dept == \"cse\":\n",
    "        Cse_ids.append(int(emp_id))\n",
    "    elif dept == \"it\":\n",
    "        IT_ids.append(int(emp_id))\n",
    "print(Mech_ids)\n",
    "print(Cse_ids)\n",
    "print(IT_ids)\n"
   ]
  },
  {
   "cell_type": "code",
   "execution_count": 12,
   "id": "7f38d850-a987-4ec3-b959-b6d1e4811706",
   "metadata": {},
   "outputs": [],
   "source": [
    "tot=len(Mech_ids+Cse_ids+IT_ids)"
   ]
  },
  {
   "cell_type": "code",
   "execution_count": 13,
   "id": "82d5d23d-4212-44b7-b921-27fedebdbd32",
   "metadata": {},
   "outputs": [],
   "source": [
    "months_gap={0:\"Jan-Feb\",1:\"Feb-Mar\",2:\"Mar-Apr\",3:\"Apr-May\",4:\"May-Jun\",5:\"Jun-Jul\",6:\"Jul-Aug\",7:\"Aug-Sep\",8:\"Sep-Oct\",9:\"Oct-Nov\"}"
   ]
  },
  {
   "cell_type": "code",
   "execution_count": 14,
   "id": "727131fa-53db-40e1-b94d-bb5fd2987646",
   "metadata": {},
   "outputs": [],
   "source": [
    "rows=[]\n",
    "gap=0\n",
    "for a in range(0,60,tot):\n",
    "    meches=0\n",
    "    its=0\n",
    "    cses=0\n",
    "    for k in range(tot):\n",
    "        if df2[\"emp_id\"][k+a] in Mech_ids:\n",
    "            temp=k+a\n",
    "            for _ in range(2):\n",
    "                meches+=df2[\"attendies\"][temp]\n",
    "                temp+=tot\n",
    "        elif df2[\"emp_id\"][k+a] in IT_ids:\n",
    "            temp1=k+a\n",
    "            for _ in range(2):\n",
    "                its+=df2[\"attendies\"][temp1]\n",
    "                temp1+=tot\n",
    "        elif df2[\"emp_id\"][k+a] in Cse_ids:\n",
    "            temp2=k+a\n",
    "            for _ in range(2):\n",
    "                cses+=df2[\"attendies\"][temp2]\n",
    "                temp2+=tot\n",
    "    #print(months_gap[gap],int(meches/(len(Mech_ids)*2) * 100),int(cses/(len(Cse_ids)*2) * 100),int(its/(len(IT_ids)*2) * 100))\n",
    "    new_row = {\n",
    "        \"Month-Gap\":months_gap[gap],\n",
    "        \"CSE\":int(cses/(len(Cse_ids)*2)*100),\n",
    "        \"IT\":int(its/(len(IT_ids)*2)*100),\n",
    "        \"MECH\":int(meches/(len(Mech_ids)*2)*100)\n",
    "    }\n",
    "    rows.append(new_row)\n",
    "    gap+=1"
   ]
  },
  {
   "cell_type": "code",
   "execution_count": 15,
   "id": "7e1cab7a-76c9-43cc-af95-1bdf050cce8c",
   "metadata": {},
   "outputs": [],
   "source": [
    "df3=pd.concat([df3,pd.DataFrame(rows)],ignore_index=True)"
   ]
  },
  {
   "cell_type": "code",
   "execution_count": 16,
   "id": "38f8dbdc-f11e-48b0-97b5-c0e04188fff3",
   "metadata": {},
   "outputs": [
    {
     "data": {
      "text/html": [
       "<div>\n",
       "<style scoped>\n",
       "    .dataframe tbody tr th:only-of-type {\n",
       "        vertical-align: middle;\n",
       "    }\n",
       "\n",
       "    .dataframe tbody tr th {\n",
       "        vertical-align: top;\n",
       "    }\n",
       "\n",
       "    .dataframe thead th {\n",
       "        text-align: right;\n",
       "    }\n",
       "</style>\n",
       "<table border=\"1\" class=\"dataframe\">\n",
       "  <thead>\n",
       "    <tr style=\"text-align: right;\">\n",
       "      <th></th>\n",
       "      <th>Month-Gap</th>\n",
       "      <th>MECH</th>\n",
       "      <th>CSE</th>\n",
       "      <th>IT</th>\n",
       "    </tr>\n",
       "  </thead>\n",
       "  <tbody>\n",
       "    <tr>\n",
       "      <th>0</th>\n",
       "      <td>Jan-Feb</td>\n",
       "      <td>75.0</td>\n",
       "      <td>100.0</td>\n",
       "      <td>75.0</td>\n",
       "    </tr>\n",
       "    <tr>\n",
       "      <th>1</th>\n",
       "      <td>Feb-Mar</td>\n",
       "      <td>50.0</td>\n",
       "      <td>100.0</td>\n",
       "      <td>75.0</td>\n",
       "    </tr>\n",
       "    <tr>\n",
       "      <th>2</th>\n",
       "      <td>Mar-Apr</td>\n",
       "      <td>50.0</td>\n",
       "      <td>75.0</td>\n",
       "      <td>25.0</td>\n",
       "    </tr>\n",
       "    <tr>\n",
       "      <th>3</th>\n",
       "      <td>Apr-May</td>\n",
       "      <td>50.0</td>\n",
       "      <td>75.0</td>\n",
       "      <td>50.0</td>\n",
       "    </tr>\n",
       "    <tr>\n",
       "      <th>4</th>\n",
       "      <td>May-Jun</td>\n",
       "      <td>50.0</td>\n",
       "      <td>75.0</td>\n",
       "      <td>75.0</td>\n",
       "    </tr>\n",
       "    <tr>\n",
       "      <th>5</th>\n",
       "      <td>Jun-Jul</td>\n",
       "      <td>25.0</td>\n",
       "      <td>75.0</td>\n",
       "      <td>75.0</td>\n",
       "    </tr>\n",
       "    <tr>\n",
       "      <th>6</th>\n",
       "      <td>Jul-Aug</td>\n",
       "      <td>50.0</td>\n",
       "      <td>50.0</td>\n",
       "      <td>100.0</td>\n",
       "    </tr>\n",
       "    <tr>\n",
       "      <th>7</th>\n",
       "      <td>Aug-Sep</td>\n",
       "      <td>100.0</td>\n",
       "      <td>50.0</td>\n",
       "      <td>100.0</td>\n",
       "    </tr>\n",
       "    <tr>\n",
       "      <th>8</th>\n",
       "      <td>Sep-Oct</td>\n",
       "      <td>75.0</td>\n",
       "      <td>100.0</td>\n",
       "      <td>75.0</td>\n",
       "    </tr>\n",
       "    <tr>\n",
       "      <th>9</th>\n",
       "      <td>Oct-Nov</td>\n",
       "      <td>75.0</td>\n",
       "      <td>75.0</td>\n",
       "      <td>50.0</td>\n",
       "    </tr>\n",
       "  </tbody>\n",
       "</table>\n",
       "</div>"
      ],
      "text/plain": [
       "  Month-Gap   MECH    CSE     IT\n",
       "0   Jan-Feb   75.0  100.0   75.0\n",
       "1   Feb-Mar   50.0  100.0   75.0\n",
       "2   Mar-Apr   50.0   75.0   25.0\n",
       "3   Apr-May   50.0   75.0   50.0\n",
       "4   May-Jun   50.0   75.0   75.0\n",
       "5   Jun-Jul   25.0   75.0   75.0\n",
       "6   Jul-Aug   50.0   50.0  100.0\n",
       "7   Aug-Sep  100.0   50.0  100.0\n",
       "8   Sep-Oct   75.0  100.0   75.0\n",
       "9   Oct-Nov   75.0   75.0   50.0"
      ]
     },
     "execution_count": 16,
     "metadata": {},
     "output_type": "execute_result"
    }
   ],
   "source": [
    "df3"
   ]
  },
  {
   "cell_type": "code",
   "execution_count": 22,
   "id": "050a4917-e3bb-42b5-9811-cc736b0c0e06",
   "metadata": {},
   "outputs": [
    {
     "data": {
      "image/png": "[encoded data removed]",
      "text/plain": [
       "<Figure size 640x480 with 1 Axes>"
      ]
     },
     "metadata": {},
     "output_type": "display_data"
    }
   ],
   "source": [
    "import matplotlib.pyplot as plt\n",
    "plt.plot(df3['Month-Gap'], df3['MECH'], label='MECH')\n",
    "plt.plot(df3['Month-Gap'], df3['CSE'], label='CSE')\n",
    "plt.plot(df3['Month-Gap'], df3['IT'], label='IT')\n",
    "plt.title('Attendance Percentage by Department')\n",
    "plt.xlabel('Month Gap')\n",
    "plt.ylabel('Attendance Percentage (%)')\n",
    "plt.legend()\n",
    "plt.show()"
   ]
  },
  {
   "cell_type": "code",
   "execution_count": null,
   "id": "7ce8c124-bc68-4ff5-b171-7335f26858d3",
   "metadata": {},
   "outputs": [],
   "source": []
  }
 ],
 "metadata": {
  "kernelspec": {
   "display_name": "Python 3 (ipykernel)",
   "language": "python",
   "name": "python3"
  },
  "language_info": {
   "codemirror_mode": {
    "name": "ipython",
    "version": 3
   },
   "file_extension": ".py",
   "mimetype": "text/x-python",
   "name": "python",
   "nbconvert_exporter": "python",
   "pygments_lexer": "ipython3",
   "version": "3.12.1"
  }
 },
 "nbformat": 4,
 "nbformat_minor": 5
}
